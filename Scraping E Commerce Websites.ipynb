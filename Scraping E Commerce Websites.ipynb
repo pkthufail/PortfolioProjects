{
 "cells": [
  {
   "cell_type": "markdown",
   "id": "530e7454",
   "metadata": {},
   "source": [
    "## Importing Libraries"
   ]
  },
  {
   "cell_type": "code",
   "execution_count": 4,
   "id": "7d78c7c9",
   "metadata": {},
   "outputs": [],
   "source": [
    "from bs4 import BeautifulSoup\n",
    "import requests\n",
    "import pandas as pd \n",
    "import urllib.parse "
   ]
  },
  {
   "cell_type": "code",
   "execution_count": 5,
   "id": "b433fca8",
   "metadata": {},
   "outputs": [],
   "source": [
    "url = \"https://www.flipkart.com/search?q=laptop&otracker=search&otracker1=search&marketplace=FLIPKART&as-show=on&as=off&page=1\""
   ]
  },
  {
   "cell_type": "code",
   "execution_count": 6,
   "id": "ed8b564d",
   "metadata": {},
   "outputs": [],
   "source": [
    "response = requests.get(url)"
   ]
  },
  {
   "cell_type": "code",
   "execution_count": 7,
   "id": "ee6f50da",
   "metadata": {},
   "outputs": [
    {
     "data": {
      "text/plain": [
       "200"
      ]
     },
     "execution_count": 7,
     "metadata": {},
     "output_type": "execute_result"
    }
   ],
   "source": [
    "response.status_code"
   ]
  },
  {
   "cell_type": "code",
   "execution_count": 8,
   "id": "53129f04",
   "metadata": {},
   "outputs": [],
   "source": [
    "soup = BeautifulSoup(response.content, \"html.parser\")"
   ]
  },
  {
   "cell_type": "code",
   "execution_count": 13,
   "id": "21170389",
   "metadata": {},
   "outputs": [],
   "source": [
    "results = soup.find_all('div', {'class': '_13oc-S'})"
   ]
  },
  {
   "cell_type": "code",
   "execution_count": 15,
   "id": "76a09827",
   "metadata": {},
   "outputs": [
    {
     "data": {
      "text/plain": [
       "24"
      ]
     },
     "execution_count": 15,
     "metadata": {},
     "output_type": "execute_result"
    }
   ],
   "source": [
    "len(results)"
   ]
  },
  {
   "cell_type": "code",
   "execution_count": 113,
   "id": "d4033780",
   "metadata": {},
   "outputs": [
    {
     "data": {
      "text/plain": [
       "<div class=\"_13oc-S\"><div data-id=\"COMG6YZZPGBEVSTD\" style=\"width:100%\"><div class=\"_2kHMtA\"><div class=\"_2tfzpE\"><span>Ad</span></div><a class=\"_1fQZEK\" href=\"/lenovo-thinkbook-13s-core-i5-11th-gen-16-gb-512-gb-ssd-windows-10-home-tb13s-itl-2-thin-light-laptop/p/itme802f0457ba0e?pid=COMG6YZZPGBEVSTD&amp;lid=LSTCOMG6YZZPGBEVSTDQS53VL&amp;marketplace=FLIPKART&amp;q=laptop&amp;store=6bo%2Fb5g&amp;srno=s_1_2&amp;otracker=search&amp;otracker1=search&amp;fm=organic&amp;iid=en_uuGYcl9kkeeU3oo8SYekEQupVo%2B6%2FYry08kYFC%2BIUvWgs0P%2Bo3hVgpaeAA%2BVCNh%2B5hpcDTm0Funq5jxcQRuYbg%3D%3D&amp;ppt=None&amp;ppn=None&amp;ssid=jcs9gazwj40000001654049328384&amp;qH=312f91285e048e09\" rel=\"noopener noreferrer\" target=\"_blank\"><div class=\"MIXNux\"><div class=\"_2QcLo-\"><div><div class=\"CXW8mj\" style=\"height:200px;width:200px\"><img alt=\"Lenovo ThinkBook 13s Core i5 11th Gen - (16 GB/512 GB SSD/Windows 10 Home) TB13s ITL Gen 2 Thin and Li...\" class=\"_396cs4 _3exPp9\" src=\"https://rukminim1.flixcart.com/image/312/312/ktop5e80/computer/x/k/g/thinkbook-13s-thin-and-light-laptop-lenovo-original-imag6zepnbxrwmaf.jpeg?q=70\"/></div></div></div><div class=\"_3wLduG\"><div class=\"_3PzNI-\"><span class=\"f3A4_V\"><label class=\"_2iDkf8\"><input class=\"_30VH1S\" readonly=\"\" type=\"checkbox\"/><div class=\"_24_Dny\"></div></label></span><label class=\"_6Up2sF\"><span>Add to Compare</span></label></div></div><div class=\"_2hVSre _3nq8ih\"><div class=\"_36FSn5\"><svg class=\"_1l0elc\" height=\"16\" viewbox=\"0 0 20 16\" width=\"16\" xmlns=\"http://www.w3.org/2000/svg\"><path class=\"eX72wL\" d=\"M8.695 16.682C4.06 12.382 1 9.536 1 6.065 1 3.219 3.178 1 5.95 1c1.566 0 3.069.746 4.05 1.915C10.981 1.745 12.484 1 14.05 1 16.822 1 19 3.22 19 6.065c0 3.471-3.06 6.316-7.695 10.617L10 17.897l-1.305-1.215z\" fill=\"#2874F0\" fill-rule=\"evenodd\" opacity=\".9\" stroke=\"#FFF\"></path></svg></div></div></div><div class=\"_3pLy-c row\"><div class=\"col col-7-12\"><div class=\"_4rR01T\">Lenovo ThinkBook 13s Core i5 11th Gen - (16 GB/512 GB SSD/Windows 10 Home) TB13s ITL Gen 2 Thin and Li...</div><div class=\"gUuXy-\"><span class=\"_1lRcqv\" id=\"productRating_LSTCOMG6YZZPGBEVSTDQS53VL_COMG6YZZPGBEVSTD_\"><div class=\"_3LWZlK\">4.2<img class=\"_1wB99o\" src=\"data:image/svg+xml;base64,PHN2ZyB4bWxucz0iaHR0cDovL3d3dy53My5vcmcvMjAwMC9zdmciIHdpZHRoPSIxMyIgaGVpZ2h0PSIxMiI+PHBhdGggZmlsbD0iI0ZGRiIgZD0iTTYuNSA5LjQzOWwtMy42NzQgMi4yMy45NC00LjI2LTMuMjEtMi44ODMgNC4yNTQtLjQwNEw2LjUuMTEybDEuNjkgNC4wMSA0LjI1NC40MDQtMy4yMSAyLjg4Mi45NCA0LjI2eiIvPjwvc3ZnPg==\"/></div></span><span class=\"_2_R_DZ\"><span><span>111 Ratings </span><span class=\"_13vcmD\">&amp;</span><span> 13 Reviews</span></span></span></div><div class=\"fMghEO\"><ul class=\"_1xgFaf\"><li class=\"rgWa7D\">Intel Core i5 Processor (11th Gen)</li><li class=\"rgWa7D\">16 GB DDR4 RAM</li><li class=\"rgWa7D\">64 bit Windows 10 Operating System</li><li class=\"rgWa7D\">512 GB SSD</li><li class=\"rgWa7D\">33.02 cm (13 inch) Display</li><li class=\"rgWa7D\">Microsoft Office Home &amp; Student 2019</li><li class=\"rgWa7D\">1 Year Onsite Warranty</li></ul></div></div><div class=\"col col-5-12 nlI3QM\"><div class=\"_3tbKJL\"><div class=\"_25b18c\"><div class=\"_30jeq3 _1_WHN1\">₹60,990</div><div class=\"_3I9_wc _27UcVY\">₹<!-- -->1,20,708</div><div class=\"_3Ay6Sb\"><span>49% off</span></div></div><div class=\"_3tcB5a p8ucoS\"><div><div class=\"_2Tpdn3\" style=\"color:#000000;font-size:12px;font-style:normal;font-weight:400\">Free delivery</div></div></div></div><div class=\"_13J9qT\"><img height=\"21\" src=\"//static-assets-web.flixcart.com/www/linchpin/fk-cp-zion/img/fa_62673a.png\"/></div><div class=\"_2ZdXDB\"><div class=\"_3xFhiH\"><div class=\"_2Tpdn3 _18hQoS\" style=\"color:#000000;font-size:14px;font-style:normal;font-weight:400\">Upto </div><div class=\"_2Tpdn3 _18hQoS\" style=\"color:#000000;font-size:14px;font-style:normal;font-weight:700\">₹18,100</div><div class=\"_2Tpdn3 _18hQoS\" style=\"color:#000000;font-size:14px;font-style:normal;font-weight:400\"> Off on Exchange</div></div></div></div></div></a></div></div></div>"
      ]
     },
     "execution_count": 113,
     "metadata": {},
     "output_type": "execute_result"
    }
   ],
   "source": [
    "results[1]"
   ]
  },
  {
   "cell_type": "code",
   "execution_count": 63,
   "id": "1d86fc8f",
   "metadata": {},
   "outputs": [],
   "source": [
    "#Name\n",
    "#Link\n",
    "#Selling Price\n",
    "#MRP\n",
    "#Specifications\n",
    "#Rating\n",
    "#Rating Count"
   ]
  },
  {
   "cell_type": "code",
   "execution_count": 18,
   "id": "fc4a6a3b",
   "metadata": {},
   "outputs": [
    {
     "data": {
      "text/plain": [
       "'DELL Inspiron Core i3 11th Gen - (8 GB/1 TB HDD/Windows 11 Home) Inspiron 3511 Thin and Light Laptop'"
      ]
     },
     "execution_count": 18,
     "metadata": {},
     "output_type": "execute_result"
    }
   ],
   "source": [
    "#Name\n",
    "results[0].find('div', {'class':'_4rR01T'}).get_text()"
   ]
  },
  {
   "cell_type": "code",
   "execution_count": 21,
   "id": "ebd8b46d",
   "metadata": {},
   "outputs": [
    {
     "data": {
      "text/plain": [
       "'https://www.flipkart.com/dell-inspiron-core-i3-11th-gen-8-gb-1-tb-hdd-windows-11-home-3511-thin-light-laptop/p/itm3aee48058fdab?pid=COMGAAWYSVWZAMZZ&lid=LSTCOMGAAWYSVWZAMZZEKY92E&marketplace=FLIPKART&q=laptop&store=6bo%2Fb5g&srno=s_1_1&otracker=search&otracker1=search&fm=organic&iid=en_ujGYfMEao7H5KQb%2FPU%2F%2B2M2bR0iWvfQaRZL836sV1GzluXcOX8zhh2lw2%2FgAVuJVeKheLKqydKc6uFSGeIZ1jA%3D%3D&ppt=None&ppn=None&ssid=8ot8ft3wcw0000001654044062756&qH=312f91285e048e09'"
      ]
     },
     "execution_count": 21,
     "metadata": {},
     "output_type": "execute_result"
    }
   ],
   "source": [
    "#Link\n",
    "flip = 'https://www.flipkart.com'\n",
    "flip + results[0].find('a', {'class': '_1fQZEK'}).get('href')"
   ]
  },
  {
   "cell_type": "code",
   "execution_count": 25,
   "id": "2d873647",
   "metadata": {},
   "outputs": [
    {
     "data": {
      "text/plain": [
       "'₹35,990'"
      ]
     },
     "execution_count": 25,
     "metadata": {},
     "output_type": "execute_result"
    }
   ],
   "source": [
    "#selling Price\n",
    "results[0].find('div', {'class':'_30jeq3 _1_WHN1'}).get_text()"
   ]
  },
  {
   "cell_type": "code",
   "execution_count": 26,
   "id": "8709752a",
   "metadata": {},
   "outputs": [
    {
     "data": {
      "text/plain": [
       "'₹51,493'"
      ]
     },
     "execution_count": 26,
     "metadata": {},
     "output_type": "execute_result"
    }
   ],
   "source": [
    "#MRP\n",
    "results[0].find('div', {'class':'_3I9_wc _27UcVY'}).get_text()"
   ]
  },
  {
   "cell_type": "code",
   "execution_count": 27,
   "id": "d07955c7",
   "metadata": {},
   "outputs": [
    {
     "data": {
      "text/plain": [
       "'3.6'"
      ]
     },
     "execution_count": 27,
     "metadata": {},
     "output_type": "execute_result"
    }
   ],
   "source": [
    "#Rating\n",
    "results[0].find('div', {'class':'_3LWZlK'}).get_text()"
   ]
  },
  {
   "cell_type": "code",
   "execution_count": 39,
   "id": "f92fd14d",
   "metadata": {},
   "outputs": [
    {
     "data": {
      "text/plain": [
       "'448 Ratings\\xa0'"
      ]
     },
     "execution_count": 39,
     "metadata": {},
     "output_type": "execute_result"
    }
   ],
   "source": [
    "#Rating Count\n",
    "results[0].find('span', {'class':'_2_R_DZ'}).find_all('span')[1].get_text()"
   ]
  },
  {
   "cell_type": "code",
   "execution_count": 62,
   "id": "5c6af29b",
   "metadata": {},
   "outputs": [
    {
     "data": {
      "text/plain": [
       "['Intel Core i3 Processor (11th Gen)',\n",
       " '8 GB DDR4 RAM',\n",
       " '64 bit Windows 11 Operating System',\n",
       " '1 TB HDD',\n",
       " '38.0 cm (14.96 inch) Display',\n",
       " 'Microsoft Office Home & Student 2021',\n",
       " '1 Year Onsite Warranty']"
      ]
     },
     "execution_count": 62,
     "metadata": {},
     "output_type": "execute_result"
    }
   ],
   "source": [
    "#Product Details\n",
    "list(results[0].find('ul', {'class':'_1xgFaf'}).stripped_strings)"
   ]
  },
  {
   "cell_type": "code",
   "execution_count": 85,
   "id": "35110758",
   "metadata": {},
   "outputs": [],
   "source": [
    "product_name = []\n",
    "product_link = []\n",
    "selling_price = []\n",
    "mrp = []\n",
    "rating = []\n",
    "rating_count = []\n",
    "specs = []\n",
    "\n",
    "for result in results:\n",
    "    #name\n",
    "    try: \n",
    "        product_name.append(result.find('div', {'class':'_4rR01T'}).get_text())\n",
    "    except:\n",
    "        product_name.append('NA')\n",
    "    \n",
    "    #link\n",
    "    try: \n",
    "        product_link.append(flip + result.find('a', {'class': '_1fQZEK'}).get('href'))\n",
    "    except:\n",
    "        product_link.append('NA')\n",
    "    \n",
    "    #selling_price\n",
    "    try: \n",
    "        selling_price.append(result.find('div', {'class':'_30jeq3 _1_WHN1'}).get_text())\n",
    "    except:\n",
    "        selling_price.append('NA')  \n",
    "        \n",
    "    #mrp\n",
    "    try: \n",
    "        mrp.append(result.find('div', {'class':'_3I9_wc _27UcVY'}).get_text())\n",
    "    except:\n",
    "        mrp.append('NA') \n",
    "        \n",
    "    #rating\n",
    "    try: \n",
    "        rating.append(result.find('div', {'class':'_3LWZlK'}).get_text())\n",
    "    except:\n",
    "        rating.append('NA') \n",
    "        \n",
    "    #rating count\n",
    "    try: \n",
    "        rating_count.append(result.find('span', {'class':'_2_R_DZ'}).find_all('span')[1].get_text().replace(' Ratings\\xa0', ''))\n",
    "    except:\n",
    "        rating_count.append('NA') \n",
    "    \n",
    "    #specs\n",
    "    try: \n",
    "        specs.append(list(results[0].find('ul', {'class':'_1xgFaf'}).stripped_strings))\n",
    "    except:\n",
    "        specs.append('NA')"
   ]
  },
  {
   "cell_type": "code",
   "execution_count": 86,
   "id": "9537ed23",
   "metadata": {},
   "outputs": [],
   "source": [
    "product_overview = pd.DataFrame({'Name': product_name, 'Price':selling_price, 'MRP':mrp, 'Rating':rating,\n",
    "                                'Review Count': rating_count, 'Link': product_link, 'Details': specs})"
   ]
  },
  {
   "cell_type": "code",
   "execution_count": 87,
   "id": "8d7fb10c",
   "metadata": {},
   "outputs": [
    {
     "data": {
      "text/html": [
       "<div>\n",
       "<style scoped>\n",
       "    .dataframe tbody tr th:only-of-type {\n",
       "        vertical-align: middle;\n",
       "    }\n",
       "\n",
       "    .dataframe tbody tr th {\n",
       "        vertical-align: top;\n",
       "    }\n",
       "\n",
       "    .dataframe thead th {\n",
       "        text-align: right;\n",
       "    }\n",
       "</style>\n",
       "<table border=\"1\" class=\"dataframe\">\n",
       "  <thead>\n",
       "    <tr style=\"text-align: right;\">\n",
       "      <th></th>\n",
       "      <th>Name</th>\n",
       "      <th>Price</th>\n",
       "      <th>MRP</th>\n",
       "      <th>Rating</th>\n",
       "      <th>Review Count</th>\n",
       "      <th>Link</th>\n",
       "      <th>Details</th>\n",
       "    </tr>\n",
       "  </thead>\n",
       "  <tbody>\n",
       "    <tr>\n",
       "      <th>0</th>\n",
       "      <td>DELL Inspiron Core i3 11th Gen - (8 GB/1 TB HD...</td>\n",
       "      <td>₹35,990</td>\n",
       "      <td>₹51,493</td>\n",
       "      <td>3.6</td>\n",
       "      <td>448</td>\n",
       "      <td>https://www.flipkart.com/dell-inspiron-core-i3...</td>\n",
       "      <td>[Intel Core i3 Processor (11th Gen), 8 GB DDR4...</td>\n",
       "    </tr>\n",
       "    <tr>\n",
       "      <th>1</th>\n",
       "      <td>DELL Vostro Core i5 11th Gen - (8 GB/512 GB SS...</td>\n",
       "      <td>₹54,190</td>\n",
       "      <td>₹68,928</td>\n",
       "      <td>3.7</td>\n",
       "      <td>48</td>\n",
       "      <td>https://www.flipkart.com/dell-vostro-core-i5-1...</td>\n",
       "      <td>[Intel Core i3 Processor (11th Gen), 8 GB DDR4...</td>\n",
       "    </tr>\n",
       "    <tr>\n",
       "      <th>2</th>\n",
       "      <td>Lenovo IdeaPad 3 Core i3 10th Gen - (8 GB/256 ...</td>\n",
       "      <td>₹34,990</td>\n",
       "      <td>₹56,590</td>\n",
       "      <td>4.3</td>\n",
       "      <td>2,750</td>\n",
       "      <td>https://www.flipkart.com/lenovo-ideapad-3-core...</td>\n",
       "      <td>[Intel Core i3 Processor (11th Gen), 8 GB DDR4...</td>\n",
       "    </tr>\n",
       "    <tr>\n",
       "      <th>3</th>\n",
       "      <td>HP Core i3 11th Gen - (8 GB/512 GB SSD/Windows...</td>\n",
       "      <td>₹41,990</td>\n",
       "      <td>₹54,051</td>\n",
       "      <td>4.3</td>\n",
       "      <td>907</td>\n",
       "      <td>https://www.flipkart.com/hp-core-i3-11th-gen-8...</td>\n",
       "      <td>[Intel Core i3 Processor (11th Gen), 8 GB DDR4...</td>\n",
       "    </tr>\n",
       "    <tr>\n",
       "      <th>4</th>\n",
       "      <td>ASUS VivoBook 15 (2022) Celeron Quad Core - (4...</td>\n",
       "      <td>₹26,990</td>\n",
       "      <td>₹33,990</td>\n",
       "      <td>4.2</td>\n",
       "      <td>29</td>\n",
       "      <td>https://www.flipkart.com/asus-vivobook-15-2022...</td>\n",
       "      <td>[Intel Core i3 Processor (11th Gen), 8 GB DDR4...</td>\n",
       "    </tr>\n",
       "    <tr>\n",
       "      <th>5</th>\n",
       "      <td>HP Ryzen 3 Dual Core 3250U - (8 GB/256 GB SSD/...</td>\n",
       "      <td>₹34,990</td>\n",
       "      <td>₹46,055</td>\n",
       "      <td>4.3</td>\n",
       "      <td>2,641</td>\n",
       "      <td>https://www.flipkart.com/hp-ryzen-3-dual-core-...</td>\n",
       "      <td>[Intel Core i3 Processor (11th Gen), 8 GB DDR4...</td>\n",
       "    </tr>\n",
       "    <tr>\n",
       "      <th>6</th>\n",
       "      <td>Lenovo Core i3 10th Gen - (8 GB/512 GB SSD/Win...</td>\n",
       "      <td>₹38,990</td>\n",
       "      <td>₹62,190</td>\n",
       "      <td>4.4</td>\n",
       "      <td>144</td>\n",
       "      <td>https://www.flipkart.com/lenovo-core-i3-10th-g...</td>\n",
       "      <td>[Intel Core i3 Processor (11th Gen), 8 GB DDR4...</td>\n",
       "    </tr>\n",
       "    <tr>\n",
       "      <th>7</th>\n",
       "      <td>DELL Core i3 10th Gen - (8 GB/1 TB HDD/Windows...</td>\n",
       "      <td>₹41,390</td>\n",
       "      <td>₹54,992</td>\n",
       "      <td>3.3</td>\n",
       "      <td>92</td>\n",
       "      <td>https://www.flipkart.com/dell-core-i3-10th-gen...</td>\n",
       "      <td>[Intel Core i3 Processor (11th Gen), 8 GB DDR4...</td>\n",
       "    </tr>\n",
       "    <tr>\n",
       "      <th>8</th>\n",
       "      <td>acer Aspire 3 Dual Core 3020e - (4 GB/256 GB S...</td>\n",
       "      <td>₹24,990</td>\n",
       "      <td>₹34,999</td>\n",
       "      <td>4</td>\n",
       "      <td>79</td>\n",
       "      <td>https://www.flipkart.com/acer-aspire-3-dual-co...</td>\n",
       "      <td>[Intel Core i3 Processor (11th Gen), 8 GB DDR4...</td>\n",
       "    </tr>\n",
       "    <tr>\n",
       "      <th>9</th>\n",
       "      <td>Infinix INBook X1 Core i3 10th Gen - (8 GB/256...</td>\n",
       "      <td>₹29,990</td>\n",
       "      <td>₹49,999</td>\n",
       "      <td>4.3</td>\n",
       "      <td>3,205</td>\n",
       "      <td>https://www.flipkart.com/infinix-inbook-x1-cor...</td>\n",
       "      <td>[Intel Core i3 Processor (11th Gen), 8 GB DDR4...</td>\n",
       "    </tr>\n",
       "    <tr>\n",
       "      <th>10</th>\n",
       "      <td>ASUS Core i3 11th Gen - (8 GB/256 GB SSD/Windo...</td>\n",
       "      <td>₹36,990</td>\n",
       "      <td>₹52,990</td>\n",
       "      <td>4.4</td>\n",
       "      <td>470</td>\n",
       "      <td>https://www.flipkart.com/asus-core-i3-11th-gen...</td>\n",
       "      <td>[Intel Core i3 Processor (11th Gen), 8 GB DDR4...</td>\n",
       "    </tr>\n",
       "    <tr>\n",
       "      <th>11</th>\n",
       "      <td>DELL Vostro Ryzen 3 Dual Core R3-3250U - (8 GB...</td>\n",
       "      <td>₹33,990</td>\n",
       "      <td>₹50,651</td>\n",
       "      <td>4</td>\n",
       "      <td>193</td>\n",
       "      <td>https://www.flipkart.com/dell-vostro-ryzen-3-d...</td>\n",
       "      <td>[Intel Core i3 Processor (11th Gen), 8 GB DDR4...</td>\n",
       "    </tr>\n",
       "    <tr>\n",
       "      <th>12</th>\n",
       "      <td>Lenovo IdeaPad 3 Core i3 10th Gen - (8 GB/256 ...</td>\n",
       "      <td>₹34,990</td>\n",
       "      <td>₹57,990</td>\n",
       "      <td>4.2</td>\n",
       "      <td>341</td>\n",
       "      <td>https://www.flipkart.com/lenovo-ideapad-3-core...</td>\n",
       "      <td>[Intel Core i3 Processor (11th Gen), 8 GB DDR4...</td>\n",
       "    </tr>\n",
       "    <tr>\n",
       "      <th>13</th>\n",
       "      <td>ASUS VivoBook 15 (2022) Core i3 11th Gen - (8 ...</td>\n",
       "      <td>₹39,990</td>\n",
       "      <td>₹54,990</td>\n",
       "      <td>4.2</td>\n",
       "      <td>75</td>\n",
       "      <td>https://www.flipkart.com/asus-vivobook-15-2022...</td>\n",
       "      <td>[Intel Core i3 Processor (11th Gen), 8 GB DDR4...</td>\n",
       "    </tr>\n",
       "    <tr>\n",
       "      <th>14</th>\n",
       "      <td>HP Core i3 11th Gen - (8 GB/256 GB SSD/Windows...</td>\n",
       "      <td>₹38,990</td>\n",
       "      <td>₹48,933</td>\n",
       "      <td>4.3</td>\n",
       "      <td>1,073</td>\n",
       "      <td>https://www.flipkart.com/hp-core-i3-11th-gen-8...</td>\n",
       "      <td>[Intel Core i3 Processor (11th Gen), 8 GB DDR4...</td>\n",
       "    </tr>\n",
       "    <tr>\n",
       "      <th>15</th>\n",
       "      <td>DELL Inspiron Ryzen 3 Dual Core 3250U - (8 GB/...</td>\n",
       "      <td>₹32,990</td>\n",
       "      <td>₹50,173</td>\n",
       "      <td>4.2</td>\n",
       "      <td>223</td>\n",
       "      <td>https://www.flipkart.com/dell-inspiron-ryzen-3...</td>\n",
       "      <td>[Intel Core i3 Processor (11th Gen), 8 GB DDR4...</td>\n",
       "    </tr>\n",
       "    <tr>\n",
       "      <th>16</th>\n",
       "      <td>ASUS VivoBook 15 (2022) Core i3 10th Gen - (8 ...</td>\n",
       "      <td>₹38,990</td>\n",
       "      <td>₹50,990</td>\n",
       "      <td>4.3</td>\n",
       "      <td>1,635</td>\n",
       "      <td>https://www.flipkart.com/asus-vivobook-15-2022...</td>\n",
       "      <td>[Intel Core i3 Processor (11th Gen), 8 GB DDR4...</td>\n",
       "    </tr>\n",
       "    <tr>\n",
       "      <th>17</th>\n",
       "      <td>Infinix INBook X1 Core i3 10th Gen - (8 GB/256...</td>\n",
       "      <td>₹29,990</td>\n",
       "      <td>₹49,999</td>\n",
       "      <td>4.3</td>\n",
       "      <td>3,205</td>\n",
       "      <td>https://www.flipkart.com/infinix-inbook-x1-cor...</td>\n",
       "      <td>[Intel Core i3 Processor (11th Gen), 8 GB DDR4...</td>\n",
       "    </tr>\n",
       "    <tr>\n",
       "      <th>18</th>\n",
       "      <td>ASUS VivoBook Ultra 14 (2022) Core i5 11th Gen...</td>\n",
       "      <td>₹55,990</td>\n",
       "      <td>₹80,990</td>\n",
       "      <td>4.7</td>\n",
       "      <td>70</td>\n",
       "      <td>https://www.flipkart.com/asus-vivobook-ultra-1...</td>\n",
       "      <td>[Intel Core i3 Processor (11th Gen), 8 GB DDR4...</td>\n",
       "    </tr>\n",
       "    <tr>\n",
       "      <th>19</th>\n",
       "      <td>DELL Vostro Core i5 11th Gen - (8 GB/1 TB HDD/...</td>\n",
       "      <td>₹49,990</td>\n",
       "      <td>₹80,284</td>\n",
       "      <td>3.8</td>\n",
       "      <td>385</td>\n",
       "      <td>https://www.flipkart.com/dell-vostro-core-i5-1...</td>\n",
       "      <td>[Intel Core i3 Processor (11th Gen), 8 GB DDR4...</td>\n",
       "    </tr>\n",
       "    <tr>\n",
       "      <th>20</th>\n",
       "      <td>DELL Vostro Core i3 10th Gen - (8 GB/1 TB HDD/...</td>\n",
       "      <td>₹39,990</td>\n",
       "      <td>₹54,781</td>\n",
       "      <td>4.2</td>\n",
       "      <td>410</td>\n",
       "      <td>https://www.flipkart.com/dell-vostro-core-i3-1...</td>\n",
       "      <td>[Intel Core i3 Processor (11th Gen), 8 GB DDR4...</td>\n",
       "    </tr>\n",
       "    <tr>\n",
       "      <th>21</th>\n",
       "      <td>ASUS VivoBook K15 OLED Ryzen 7 Octa Core 5700U...</td>\n",
       "      <td>₹63,990</td>\n",
       "      <td>₹86,990</td>\n",
       "      <td>4.4</td>\n",
       "      <td>107</td>\n",
       "      <td>https://www.flipkart.com/asus-vivobook-k15-ole...</td>\n",
       "      <td>[Intel Core i3 Processor (11th Gen), 8 GB DDR4...</td>\n",
       "    </tr>\n",
       "    <tr>\n",
       "      <th>22</th>\n",
       "      <td>ASUS VivoBook 14 (2021) Celeron Dual Core - (4...</td>\n",
       "      <td>₹25,990</td>\n",
       "      <td>₹33,990</td>\n",
       "      <td>4.1</td>\n",
       "      <td>29</td>\n",
       "      <td>https://www.flipkart.com/asus-vivobook-14-2021...</td>\n",
       "      <td>[Intel Core i3 Processor (11th Gen), 8 GB DDR4...</td>\n",
       "    </tr>\n",
       "    <tr>\n",
       "      <th>23</th>\n",
       "      <td>DELL Inspiron Core i3 11th Gen - (8 GB/256 GB ...</td>\n",
       "      <td>₹46,990</td>\n",
       "      <td>₹68,658</td>\n",
       "      <td>4.3</td>\n",
       "      <td>125</td>\n",
       "      <td>https://www.flipkart.com/dell-inspiron-core-i3...</td>\n",
       "      <td>[Intel Core i3 Processor (11th Gen), 8 GB DDR4...</td>\n",
       "    </tr>\n",
       "  </tbody>\n",
       "</table>\n",
       "</div>"
      ],
      "text/plain": [
       "                                                 Name    Price      MRP  \\\n",
       "0   DELL Inspiron Core i3 11th Gen - (8 GB/1 TB HD...  ₹35,990  ₹51,493   \n",
       "1   DELL Vostro Core i5 11th Gen - (8 GB/512 GB SS...  ₹54,190  ₹68,928   \n",
       "2   Lenovo IdeaPad 3 Core i3 10th Gen - (8 GB/256 ...  ₹34,990  ₹56,590   \n",
       "3   HP Core i3 11th Gen - (8 GB/512 GB SSD/Windows...  ₹41,990  ₹54,051   \n",
       "4   ASUS VivoBook 15 (2022) Celeron Quad Core - (4...  ₹26,990  ₹33,990   \n",
       "5   HP Ryzen 3 Dual Core 3250U - (8 GB/256 GB SSD/...  ₹34,990  ₹46,055   \n",
       "6   Lenovo Core i3 10th Gen - (8 GB/512 GB SSD/Win...  ₹38,990  ₹62,190   \n",
       "7   DELL Core i3 10th Gen - (8 GB/1 TB HDD/Windows...  ₹41,390  ₹54,992   \n",
       "8   acer Aspire 3 Dual Core 3020e - (4 GB/256 GB S...  ₹24,990  ₹34,999   \n",
       "9   Infinix INBook X1 Core i3 10th Gen - (8 GB/256...  ₹29,990  ₹49,999   \n",
       "10  ASUS Core i3 11th Gen - (8 GB/256 GB SSD/Windo...  ₹36,990  ₹52,990   \n",
       "11  DELL Vostro Ryzen 3 Dual Core R3-3250U - (8 GB...  ₹33,990  ₹50,651   \n",
       "12  Lenovo IdeaPad 3 Core i3 10th Gen - (8 GB/256 ...  ₹34,990  ₹57,990   \n",
       "13  ASUS VivoBook 15 (2022) Core i3 11th Gen - (8 ...  ₹39,990  ₹54,990   \n",
       "14  HP Core i3 11th Gen - (8 GB/256 GB SSD/Windows...  ₹38,990  ₹48,933   \n",
       "15  DELL Inspiron Ryzen 3 Dual Core 3250U - (8 GB/...  ₹32,990  ₹50,173   \n",
       "16  ASUS VivoBook 15 (2022) Core i3 10th Gen - (8 ...  ₹38,990  ₹50,990   \n",
       "17  Infinix INBook X1 Core i3 10th Gen - (8 GB/256...  ₹29,990  ₹49,999   \n",
       "18  ASUS VivoBook Ultra 14 (2022) Core i5 11th Gen...  ₹55,990  ₹80,990   \n",
       "19  DELL Vostro Core i5 11th Gen - (8 GB/1 TB HDD/...  ₹49,990  ₹80,284   \n",
       "20  DELL Vostro Core i3 10th Gen - (8 GB/1 TB HDD/...  ₹39,990  ₹54,781   \n",
       "21  ASUS VivoBook K15 OLED Ryzen 7 Octa Core 5700U...  ₹63,990  ₹86,990   \n",
       "22  ASUS VivoBook 14 (2021) Celeron Dual Core - (4...  ₹25,990  ₹33,990   \n",
       "23  DELL Inspiron Core i3 11th Gen - (8 GB/256 GB ...  ₹46,990  ₹68,658   \n",
       "\n",
       "   Rating Review Count                                               Link  \\\n",
       "0     3.6          448  https://www.flipkart.com/dell-inspiron-core-i3...   \n",
       "1     3.7           48  https://www.flipkart.com/dell-vostro-core-i5-1...   \n",
       "2     4.3        2,750  https://www.flipkart.com/lenovo-ideapad-3-core...   \n",
       "3     4.3          907  https://www.flipkart.com/hp-core-i3-11th-gen-8...   \n",
       "4     4.2           29  https://www.flipkart.com/asus-vivobook-15-2022...   \n",
       "5     4.3        2,641  https://www.flipkart.com/hp-ryzen-3-dual-core-...   \n",
       "6     4.4          144  https://www.flipkart.com/lenovo-core-i3-10th-g...   \n",
       "7     3.3           92  https://www.flipkart.com/dell-core-i3-10th-gen...   \n",
       "8       4           79  https://www.flipkart.com/acer-aspire-3-dual-co...   \n",
       "9     4.3        3,205  https://www.flipkart.com/infinix-inbook-x1-cor...   \n",
       "10    4.4          470  https://www.flipkart.com/asus-core-i3-11th-gen...   \n",
       "11      4          193  https://www.flipkart.com/dell-vostro-ryzen-3-d...   \n",
       "12    4.2          341  https://www.flipkart.com/lenovo-ideapad-3-core...   \n",
       "13    4.2           75  https://www.flipkart.com/asus-vivobook-15-2022...   \n",
       "14    4.3        1,073  https://www.flipkart.com/hp-core-i3-11th-gen-8...   \n",
       "15    4.2          223  https://www.flipkart.com/dell-inspiron-ryzen-3...   \n",
       "16    4.3        1,635  https://www.flipkart.com/asus-vivobook-15-2022...   \n",
       "17    4.3        3,205  https://www.flipkart.com/infinix-inbook-x1-cor...   \n",
       "18    4.7           70  https://www.flipkart.com/asus-vivobook-ultra-1...   \n",
       "19    3.8          385  https://www.flipkart.com/dell-vostro-core-i5-1...   \n",
       "20    4.2          410  https://www.flipkart.com/dell-vostro-core-i3-1...   \n",
       "21    4.4          107  https://www.flipkart.com/asus-vivobook-k15-ole...   \n",
       "22    4.1           29  https://www.flipkart.com/asus-vivobook-14-2021...   \n",
       "23    4.3          125  https://www.flipkart.com/dell-inspiron-core-i3...   \n",
       "\n",
       "                                              Details  \n",
       "0   [Intel Core i3 Processor (11th Gen), 8 GB DDR4...  \n",
       "1   [Intel Core i3 Processor (11th Gen), 8 GB DDR4...  \n",
       "2   [Intel Core i3 Processor (11th Gen), 8 GB DDR4...  \n",
       "3   [Intel Core i3 Processor (11th Gen), 8 GB DDR4...  \n",
       "4   [Intel Core i3 Processor (11th Gen), 8 GB DDR4...  \n",
       "5   [Intel Core i3 Processor (11th Gen), 8 GB DDR4...  \n",
       "6   [Intel Core i3 Processor (11th Gen), 8 GB DDR4...  \n",
       "7   [Intel Core i3 Processor (11th Gen), 8 GB DDR4...  \n",
       "8   [Intel Core i3 Processor (11th Gen), 8 GB DDR4...  \n",
       "9   [Intel Core i3 Processor (11th Gen), 8 GB DDR4...  \n",
       "10  [Intel Core i3 Processor (11th Gen), 8 GB DDR4...  \n",
       "11  [Intel Core i3 Processor (11th Gen), 8 GB DDR4...  \n",
       "12  [Intel Core i3 Processor (11th Gen), 8 GB DDR4...  \n",
       "13  [Intel Core i3 Processor (11th Gen), 8 GB DDR4...  \n",
       "14  [Intel Core i3 Processor (11th Gen), 8 GB DDR4...  \n",
       "15  [Intel Core i3 Processor (11th Gen), 8 GB DDR4...  \n",
       "16  [Intel Core i3 Processor (11th Gen), 8 GB DDR4...  \n",
       "17  [Intel Core i3 Processor (11th Gen), 8 GB DDR4...  \n",
       "18  [Intel Core i3 Processor (11th Gen), 8 GB DDR4...  \n",
       "19  [Intel Core i3 Processor (11th Gen), 8 GB DDR4...  \n",
       "20  [Intel Core i3 Processor (11th Gen), 8 GB DDR4...  \n",
       "21  [Intel Core i3 Processor (11th Gen), 8 GB DDR4...  \n",
       "22  [Intel Core i3 Processor (11th Gen), 8 GB DDR4...  \n",
       "23  [Intel Core i3 Processor (11th Gen), 8 GB DDR4...  "
      ]
     },
     "execution_count": 87,
     "metadata": {},
     "output_type": "execute_result"
    }
   ],
   "source": [
    "product_overview"
   ]
  },
  {
   "cell_type": "code",
   "execution_count": 98,
   "id": "3c8a87ce",
   "metadata": {},
   "outputs": [],
   "source": [
    "product_name = []\n",
    "product_link = []\n",
    "selling_price = []\n",
    "mrp = []\n",
    "rating = []\n",
    "rating_count = []\n",
    "specs = []\n",
    "\n",
    "#loop through 100 pages\n",
    "for i in range(1,11):\n",
    "    #page URLS\n",
    "    website = 'https://www.flipkart.com/search?q=laptop&otracker=search&otracker1=search&marketplace=FLIPKART&as-show=on&as=off&page=' + str(i)\n",
    "    response = requests.get(url)\n",
    "    soup = BeautifulSoup(response.content, \"html.parser\")\n",
    "    results = soup.find_all('div', {'class': '_13oc-S'})\n",
    "    \n",
    "    \n",
    "    for result in results:\n",
    "        #name\n",
    "        try: \n",
    "            product_name.append(result.find('div', {'class':'_4rR01T'}).get_text())\n",
    "        except:\n",
    "            product_name.append('NA')\n",
    "        \n",
    "        #link\n",
    "        try: \n",
    "            product_link.append(flip + result.find('a', {'class': '_1fQZEK'}).get('href'))\n",
    "        except:\n",
    "            product_link.append('NA')\n",
    "    \n",
    "        #selling_price\n",
    "        try: \n",
    "            selling_price.append(result.find('div', {'class':'_30jeq3 _1_WHN1'}).get_text())\n",
    "        except:\n",
    "            selling_price.append('NA')  \n",
    "            \n",
    "        #mrp\n",
    "        try: \n",
    "            mrp.append(result.find('div', {'class':'_3I9_wc _27UcVY'}).get_text())\n",
    "        except:\n",
    "            mrp.append('NA') \n",
    "            \n",
    "        #rating\n",
    "        try: \n",
    "            rating.append(result.find('div', {'class':'_3LWZlK'}).get_text())\n",
    "        except:\n",
    "            rating.append('NA') \n",
    "            \n",
    "        #rating count\n",
    "        try: \n",
    "            rating_count.append(result.find('span', {'class':'_2_R_DZ'}).find_all('span')[1].get_text().replace(' Ratings\\xa0', ''))\n",
    "        except:\n",
    "            rating_count.append('NA') \n",
    "        \n",
    "        #specs\n",
    "        try: \n",
    "            specs.append(list(result.find('ul', {'class':'_1xgFaf'}).stripped_strings))\n",
    "        except:\n",
    "            specs.append('NA')"
   ]
  },
  {
   "cell_type": "code",
   "execution_count": 105,
   "id": "a52eeb5f",
   "metadata": {},
   "outputs": [],
   "source": [
    "product_overview = pd.DataFrame({'Name': product_name, 'Price':selling_price, 'MRP':mrp, 'Rating':rating,\n",
    "                                'Review Count': rating_count, 'Link': product_link, 'Details': specs})"
   ]
  },
  {
   "cell_type": "code",
   "execution_count": 107,
   "id": "5dcc42f3",
   "metadata": {},
   "outputs": [
    {
     "data": {
      "text/html": [
       "<div>\n",
       "<style scoped>\n",
       "    .dataframe tbody tr th:only-of-type {\n",
       "        vertical-align: middle;\n",
       "    }\n",
       "\n",
       "    .dataframe tbody tr th {\n",
       "        vertical-align: top;\n",
       "    }\n",
       "\n",
       "    .dataframe thead th {\n",
       "        text-align: right;\n",
       "    }\n",
       "</style>\n",
       "<table border=\"1\" class=\"dataframe\">\n",
       "  <thead>\n",
       "    <tr style=\"text-align: right;\">\n",
       "      <th></th>\n",
       "      <th>Name</th>\n",
       "      <th>Price</th>\n",
       "      <th>MRP</th>\n",
       "      <th>Rating</th>\n",
       "      <th>Review Count</th>\n",
       "      <th>Link</th>\n",
       "      <th>Details</th>\n",
       "    </tr>\n",
       "  </thead>\n",
       "  <tbody>\n",
       "    <tr>\n",
       "      <th>0</th>\n",
       "      <td>Lenovo ThinkBook 13s Core i5 11th Gen - (16 GB...</td>\n",
       "      <td>₹60,990</td>\n",
       "      <td>₹1,20,708</td>\n",
       "      <td>4.2</td>\n",
       "      <td>111</td>\n",
       "      <td>https://www.flipkart.com/lenovo-thinkbook-13s-...</td>\n",
       "      <td>[Intel Core i5 Processor (11th Gen), 16 GB DDR...</td>\n",
       "    </tr>\n",
       "    <tr>\n",
       "      <th>1</th>\n",
       "      <td>DELL Inspiron Core i3 11th Gen - (8 GB/256 GB ...</td>\n",
       "      <td>₹46,990</td>\n",
       "      <td>₹68,658</td>\n",
       "      <td>4.3</td>\n",
       "      <td>125</td>\n",
       "      <td>https://www.flipkart.com/dell-inspiron-core-i3...</td>\n",
       "      <td>[Intel Core i3 Processor (11th Gen), 8 GB DDR4...</td>\n",
       "    </tr>\n",
       "    <tr>\n",
       "      <th>2</th>\n",
       "      <td>Lenovo IdeaPad 3 Core i3 10th Gen - (8 GB/256 ...</td>\n",
       "      <td>₹34,990</td>\n",
       "      <td>₹56,590</td>\n",
       "      <td>4.3</td>\n",
       "      <td>2,750</td>\n",
       "      <td>https://www.flipkart.com/lenovo-ideapad-3-core...</td>\n",
       "      <td>[Intel Core i3 Processor (10th Gen), 8 GB DDR4...</td>\n",
       "    </tr>\n",
       "    <tr>\n",
       "      <th>3</th>\n",
       "      <td>HP Core i3 11th Gen - (8 GB/512 GB SSD/Windows...</td>\n",
       "      <td>₹41,990</td>\n",
       "      <td>₹54,051</td>\n",
       "      <td>4.3</td>\n",
       "      <td>907</td>\n",
       "      <td>https://www.flipkart.com/hp-core-i3-11th-gen-8...</td>\n",
       "      <td>[Intel Core i3 Processor (11th Gen), 8 GB DDR4...</td>\n",
       "    </tr>\n",
       "    <tr>\n",
       "      <th>4</th>\n",
       "      <td>ASUS VivoBook 15 (2022) Celeron Quad Core - (4...</td>\n",
       "      <td>₹26,990</td>\n",
       "      <td>₹33,990</td>\n",
       "      <td>4.2</td>\n",
       "      <td>29</td>\n",
       "      <td>https://www.flipkart.com/asus-vivobook-15-2022...</td>\n",
       "      <td>[Intel Celeron Quad Core Processor, 4 GB DDR4 ...</td>\n",
       "    </tr>\n",
       "    <tr>\n",
       "      <th>...</th>\n",
       "      <td>...</td>\n",
       "      <td>...</td>\n",
       "      <td>...</td>\n",
       "      <td>...</td>\n",
       "      <td>...</td>\n",
       "      <td>...</td>\n",
       "      <td>...</td>\n",
       "    </tr>\n",
       "    <tr>\n",
       "      <th>235</th>\n",
       "      <td>acer Nitro 5 Ryzen 7 Octa Core 5800H - (16 GB/...</td>\n",
       "      <td>₹80,990</td>\n",
       "      <td>₹1,19,900</td>\n",
       "      <td>4.4</td>\n",
       "      <td>214</td>\n",
       "      <td>https://www.flipkart.com/acer-nitro-5-ryzen-7-...</td>\n",
       "      <td>[AMD Ryzen 7 Octa Core Processor, 16 GB DDR4 R...</td>\n",
       "    </tr>\n",
       "    <tr>\n",
       "      <th>236</th>\n",
       "      <td>ASUS VivoBook K15 OLED Ryzen 7 Octa Core 5700U...</td>\n",
       "      <td>₹63,990</td>\n",
       "      <td>₹86,990</td>\n",
       "      <td>4.4</td>\n",
       "      <td>107</td>\n",
       "      <td>https://www.flipkart.com/asus-vivobook-k15-ole...</td>\n",
       "      <td>[AMD Ryzen 7 Octa Core Processor, 16 GB DDR4 R...</td>\n",
       "    </tr>\n",
       "    <tr>\n",
       "      <th>237</th>\n",
       "      <td>ASUS VivoBook 14 (2021) Celeron Dual Core - (4...</td>\n",
       "      <td>₹25,990</td>\n",
       "      <td>₹33,990</td>\n",
       "      <td>4.1</td>\n",
       "      <td>29</td>\n",
       "      <td>https://www.flipkart.com/asus-vivobook-14-2021...</td>\n",
       "      <td>[Intel Celeron Dual Core Processor, 4 GB DDR4 ...</td>\n",
       "    </tr>\n",
       "    <tr>\n",
       "      <th>238</th>\n",
       "      <td>Lenovo IdeaPad 3 Core i3 11th Gen - (8 GB/512 ...</td>\n",
       "      <td>₹40,990</td>\n",
       "      <td>₹64,490</td>\n",
       "      <td>4.3</td>\n",
       "      <td>654</td>\n",
       "      <td>https://www.flipkart.com/lenovo-ideapad-3-core...</td>\n",
       "      <td>[Intel Core i3 Processor (11th Gen), 8 GB DDR4...</td>\n",
       "    </tr>\n",
       "    <tr>\n",
       "      <th>239</th>\n",
       "      <td>DELL Core i5 11th Gen - (8 GB/512 GB SSD/Windo...</td>\n",
       "      <td>₹69,490</td>\n",
       "      <td>₹75,826</td>\n",
       "      <td>5</td>\n",
       "      <td>3</td>\n",
       "      <td>https://www.flipkart.com/dell-core-i5-11th-gen...</td>\n",
       "      <td>[NVIDIA RTX 3050 Graphics upto 90W TGP, 15.6 i...</td>\n",
       "    </tr>\n",
       "  </tbody>\n",
       "</table>\n",
       "<p>240 rows × 7 columns</p>\n",
       "</div>"
      ],
      "text/plain": [
       "                                                  Name    Price        MRP  \\\n",
       "0    Lenovo ThinkBook 13s Core i5 11th Gen - (16 GB...  ₹60,990  ₹1,20,708   \n",
       "1    DELL Inspiron Core i3 11th Gen - (8 GB/256 GB ...  ₹46,990    ₹68,658   \n",
       "2    Lenovo IdeaPad 3 Core i3 10th Gen - (8 GB/256 ...  ₹34,990    ₹56,590   \n",
       "3    HP Core i3 11th Gen - (8 GB/512 GB SSD/Windows...  ₹41,990    ₹54,051   \n",
       "4    ASUS VivoBook 15 (2022) Celeron Quad Core - (4...  ₹26,990    ₹33,990   \n",
       "..                                                 ...      ...        ...   \n",
       "235  acer Nitro 5 Ryzen 7 Octa Core 5800H - (16 GB/...  ₹80,990  ₹1,19,900   \n",
       "236  ASUS VivoBook K15 OLED Ryzen 7 Octa Core 5700U...  ₹63,990    ₹86,990   \n",
       "237  ASUS VivoBook 14 (2021) Celeron Dual Core - (4...  ₹25,990    ₹33,990   \n",
       "238  Lenovo IdeaPad 3 Core i3 11th Gen - (8 GB/512 ...  ₹40,990    ₹64,490   \n",
       "239  DELL Core i5 11th Gen - (8 GB/512 GB SSD/Windo...  ₹69,490    ₹75,826   \n",
       "\n",
       "    Rating Review Count                                               Link  \\\n",
       "0      4.2          111  https://www.flipkart.com/lenovo-thinkbook-13s-...   \n",
       "1      4.3          125  https://www.flipkart.com/dell-inspiron-core-i3...   \n",
       "2      4.3        2,750  https://www.flipkart.com/lenovo-ideapad-3-core...   \n",
       "3      4.3          907  https://www.flipkart.com/hp-core-i3-11th-gen-8...   \n",
       "4      4.2           29  https://www.flipkart.com/asus-vivobook-15-2022...   \n",
       "..     ...          ...                                                ...   \n",
       "235    4.4          214  https://www.flipkart.com/acer-nitro-5-ryzen-7-...   \n",
       "236    4.4          107  https://www.flipkart.com/asus-vivobook-k15-ole...   \n",
       "237    4.1           29  https://www.flipkart.com/asus-vivobook-14-2021...   \n",
       "238    4.3          654  https://www.flipkart.com/lenovo-ideapad-3-core...   \n",
       "239      5            3  https://www.flipkart.com/dell-core-i5-11th-gen...   \n",
       "\n",
       "                                               Details  \n",
       "0    [Intel Core i5 Processor (11th Gen), 16 GB DDR...  \n",
       "1    [Intel Core i3 Processor (11th Gen), 8 GB DDR4...  \n",
       "2    [Intel Core i3 Processor (10th Gen), 8 GB DDR4...  \n",
       "3    [Intel Core i3 Processor (11th Gen), 8 GB DDR4...  \n",
       "4    [Intel Celeron Quad Core Processor, 4 GB DDR4 ...  \n",
       "..                                                 ...  \n",
       "235  [AMD Ryzen 7 Octa Core Processor, 16 GB DDR4 R...  \n",
       "236  [AMD Ryzen 7 Octa Core Processor, 16 GB DDR4 R...  \n",
       "237  [Intel Celeron Dual Core Processor, 4 GB DDR4 ...  \n",
       "238  [Intel Core i3 Processor (11th Gen), 8 GB DDR4...  \n",
       "239  [NVIDIA RTX 3050 Graphics upto 90W TGP, 15.6 i...  \n",
       "\n",
       "[240 rows x 7 columns]"
      ]
     },
     "execution_count": 107,
     "metadata": {},
     "output_type": "execute_result"
    }
   ],
   "source": [
    "product_overview"
   ]
  },
  {
   "cell_type": "code",
   "execution_count": 108,
   "id": "4b2ce52a",
   "metadata": {},
   "outputs": [
    {
     "data": {
      "text/plain": [
       "240"
      ]
     },
     "execution_count": 108,
     "metadata": {},
     "output_type": "execute_result"
    }
   ],
   "source": [
    "len(product_overview.Link.unique())"
   ]
  }
 ],
 "metadata": {
  "kernelspec": {
   "display_name": "Python 3 (ipykernel)",
   "language": "python",
   "name": "python3"
  },
  "language_info": {
   "codemirror_mode": {
    "name": "ipython",
    "version": 3
   },
   "file_extension": ".py",
   "mimetype": "text/x-python",
   "name": "python",
   "nbconvert_exporter": "python",
   "pygments_lexer": "ipython3",
   "version": "3.9.7"
  }
 },
 "nbformat": 4,
 "nbformat_minor": 5
}
